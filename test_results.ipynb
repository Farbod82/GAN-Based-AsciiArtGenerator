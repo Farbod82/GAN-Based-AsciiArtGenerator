{
 "cells": [
  {
   "cell_type": "code",
   "execution_count": 1,
   "metadata": {},
   "outputs": [],
   "source": [
    "import numpy as np\n",
    "import pandas as pd\n",
    "import cv2\n",
    "import albumentations as A\n",
    "from albumentations.pytorch import ToTensorV2"
   ]
  },
  {
   "cell_type": "markdown",
   "metadata": {},
   "source": [
    "# To run the code just set this variable and run the notebook"
   ]
  },
  {
   "cell_type": "code",
   "execution_count": 2,
   "metadata": {},
   "outputs": [],
   "source": [
    "image_path = \"sample_data/t3.png\""
   ]
  },
  {
   "cell_type": "code",
   "execution_count": 3,
   "metadata": {},
   "outputs": [],
   "source": [
    "import torch.nn as nn\n",
    "\n",
    "class Generator(nn.Module):\n",
    "    def __init__(self):\n",
    "        super(Generator, self).__init__()\n",
    "        self.main = nn.Sequential(\n",
    "            nn.Conv2d(1, 256, (5,5), 1, (1, 1), bias=True),\n",
    "            nn.BatchNorm2d(256),\n",
    "            nn.ReLU(True),\n",
    "            nn.Conv2d(256, 512, (5, 5), 1, (0, 0), bias=True),\n",
    "            nn.BatchNorm2d(512),\n",
    "            nn.ReLU(True),\n",
    "            nn.Conv2d(512, 256, (5, 5), 1, (0,0), bias=True),\n",
    "            nn.BatchNorm2d(256),\n",
    "            nn.ReLU(True),\n",
    "            nn.Conv2d(256, 64, (5,5), 2, (0, 0), bias=True),\n",
    "            nn.BatchNorm2d(64),\n",
    "            nn.ReLU(True),\n",
    "            nn.Conv2d(64, 5, (5, 5), 1, (0, 0), bias=True),\n",
    "            nn.Sigmoid()\n",
    "        )\n",
    "\n",
    "    def forward(self, input):\n",
    "        return self.main(input)"
   ]
  },
  {
   "cell_type": "code",
   "execution_count": 4,
   "metadata": {},
   "outputs": [
    {
     "data": {
      "text/plain": [
       "Generator(\n",
       "  (main): Sequential(\n",
       "    (0): Conv2d(1, 256, kernel_size=(5, 5), stride=(1, 1), padding=(1, 1))\n",
       "    (1): BatchNorm2d(256, eps=1e-05, momentum=0.1, affine=True, track_running_stats=True)\n",
       "    (2): ReLU(inplace=True)\n",
       "    (3): Conv2d(256, 512, kernel_size=(5, 5), stride=(1, 1))\n",
       "    (4): BatchNorm2d(512, eps=1e-05, momentum=0.1, affine=True, track_running_stats=True)\n",
       "    (5): ReLU(inplace=True)\n",
       "    (6): Conv2d(512, 256, kernel_size=(5, 5), stride=(1, 1))\n",
       "    (7): BatchNorm2d(256, eps=1e-05, momentum=0.1, affine=True, track_running_stats=True)\n",
       "    (8): ReLU(inplace=True)\n",
       "    (9): Conv2d(256, 64, kernel_size=(5, 5), stride=(2, 2))\n",
       "    (10): BatchNorm2d(64, eps=1e-05, momentum=0.1, affine=True, track_running_stats=True)\n",
       "    (11): ReLU(inplace=True)\n",
       "    (12): Conv2d(64, 5, kernel_size=(5, 5), stride=(1, 1))\n",
       "    (13): Sigmoid()\n",
       "  )\n",
       ")"
      ]
     },
     "execution_count": 4,
     "metadata": {},
     "output_type": "execute_result"
    }
   ],
   "source": [
    "import torch\n",
    "generator = Generator()\n",
    "generator.load_state_dict(torch.load(\"gen_out.pt\"))\n",
    "generator.eval()"
   ]
  },
  {
   "cell_type": "code",
   "execution_count": 5,
   "metadata": {},
   "outputs": [],
   "source": [
    "import albumentations as A\n",
    "from torch.utils.data import DataLoader\n",
    "x_transform = A.Compose(\n",
    "    [\n",
    "     A.Resize(150,150),\n",
    "     ToTensorV2(),\n",
    "     ]\n",
    ")"
   ]
  },
  {
   "cell_type": "code",
   "execution_count": 6,
   "metadata": {},
   "outputs": [
    {
     "name": "stdout",
     "output_type": "stream",
     "text": [
      "torch.Size([1, 1, 150, 150])\n"
     ]
    }
   ],
   "source": [
    "def create_string(tensor):\n",
    "  chars  = ['@', '|', '>', '<', ' ']\n",
    "  indexes = torch.argmax(tensor,dim=1)\n",
    "  output_tensor = np.zeros((tensor.shape[0],1, 64, 64),dtype='U1')\n",
    "  for k in range(tensor.shape[0]):\n",
    "      for i in range(0,tensor.shape[2],1):\n",
    "          for j in range(0,tensor.shape[3],1):\n",
    "              index = indexes[k, i, j]\n",
    "              output_tensor[k,:, i, j] = chars[index]\n",
    "  return output_tensor[0,0,:,:]\n",
    "\n",
    "generator.eval()\n",
    "image = cv2.imread(image_path,cv2.IMREAD_GRAYSCALE)\n",
    "image = x_transform(image=image)[\"image\"].float()\n",
    "\n",
    "loader = DataLoader(image,batch_size=1)\n",
    "\n",
    "\n",
    "for img in loader:\n",
    "  out = torch.zeros((1,1,150,150))\n",
    "  out[0,0,:,:] = img\n",
    "  print(out.shape)\n",
    "  out = generator(out)\n",
    "  s = create_string(out)\n",
    "  \n",
    "\n",
    "\n",
    "\n",
    "\n",
    "\n"
   ]
  },
  {
   "cell_type": "code",
   "execution_count": 7,
   "metadata": {},
   "outputs": [],
   "source": [
    "f_s = \"\"\n",
    "for i in range(s.shape[0]):\n",
    "    for j in range(s.shape[1]):\n",
    "        f_s += s[i,j]\n",
    "    f_s += \"\\n\"\n"
   ]
  },
  {
   "cell_type": "code",
   "execution_count": 8,
   "metadata": {},
   "outputs": [
    {
     "name": "stdout",
     "output_type": "stream",
     "text": [
      "|>>>>>>||||>>>>>@<>@>>>>>>>>>>>>>>>>>>>>><<<<>>>>||>>>>|||>>>>>>\n",
      ">>>>>>||| >>>>@<@@>>>>>>>>>>>>>>>>>>>>>>>>>><><<>>>>|>>>|||>>>>>\n",
      ">>>>>||| >>>>@@@>>>>>>>>>>>>>>>>>>>>>>>>>>>>>>>><<>>>>>>>>||>>>>\n",
      ">>>>|||>>>>@>>>>>>>>>>>>>>>>>>>>>>>>>>>>>>>>>>>>>>@>>>>>>>>||>>>\n",
      ">>>|||>>>>>@>>>>>>>>>>>>>>>>>>>>>>>>>>>>>>>>>>>>>>>@<>>>>>>>||>>\n",
      ">>|||>>>>>>>>>>>>>>>>>>>>>>>>>>>>>>>>>>>>>>>>>>>>>>>>@>>>>>>>>>>\n",
      ">|>|>>>>>@>@|>|||>||>|||| >>>>>>>>>>>>>>>>>>>>>>>>>>>>>>>>>>>>>>\n",
      "|>|>>>>>@@@||||||<<<|||<||| <>>>>>>>>>>>>>>>>>>>>>>>>>>> >>>>>>>\n",
      "||>>>>>@@<| ||| |||||||>@ ||||>>>>>>>>>>>>>>>>>>>>>>>>>>> >>>>>>\n",
      "| >>>>@@|  | ><||||||||||>  |><|<>>>>>>>>>>>>>>>>>>>>>>>>>>>>>>>\n",
      "<>>>>@@< ||>>|||||>>||>||||  |@<|<>>>>>>>>>>>>>>>>>>>>>>>>>>>>>>\n",
      "|>>>@@@  |>||||| <  ||>|| |>> | <|<>>>>>>>>>>>>>>>>>>>>>>>>>>>>>\n",
      "<>>>@<  >>><||| ><<<<<<|||  >> |  |>>>>>>>>>>>>>>>>>>>>>>>>>>>>>\n",
      "<>>@ | |>><|>  <<||<<<<<<@||>>> @@ <>>>>>>>>>>>>>>>>>>>>>>>>>>>>\n",
      ">>>@@ ||>< |  < <||||||<<|@||> > @  >>>>>>>>>>>>>>>>>>>>>>>>><>>\n",
      ">>@@> |>@||| <|||||||||  <@@||>>>|> >>>>>>>>>>>>>>>>>>>>>>>>>>>>\n",
      "><@@ ||>|<<< ||||>>>>>>|> <<@|| >| @< >>>>>>>>>>>>>>>>>>>>>>>><>\n",
      "<@@@||>|>>  |||>>>>>>>>>|| <<|>| >|<  ><>>>>>>>>>>>>>>>>>>>>><>>\n",
      "<@@ | >|<<<|||>>>>>>>>>>>|> @@|| >> @<>>>>>>>>>>>|>>>>>>|| >>>><\n",
      "@@@| <|>< |||>>>>>>>>>>>>>|| <|||  < < >>>>>>>@<|||||||||||| <><\n",
      "<@@| >|<<|||>>>>>>>>>>>>>>>| <||>|> || ><>>>>@|| |||<|||>< ||>|<\n",
      "<@> @>|>||||>>>>>>>>>>>>>>>| <@<||  |@<>>>>@@|  | >|||||||>  |@<\n",
      "<@@ |>>>|||>>>>>>>>>>>>>>>>| <@||||>< <>>>>>@  |>>|||||||||>  | \n",
      "@@| ||><| |>>>>>>>>>>>>>>>>>|<<|||>|  | >>>@  |>|>||| |>|||>>> |\n",
      "@>><>>><||>|>>>>>>>>>>>>>>>>> <@|>>  <| >>>@ ||>><||<><<|||| >> \n",
      "@> |>|<<||>|>>>>>>>>>>>>>>>>||<>>|>  <  >>@ ||><|>> <<<<<|@||  |\n",
      "@> |>|><<|>>>>>>>>>>>>>>>>>>> @><|> >< |>   |>>|<  <||||<<<@||>>\n",
      "@> |>|>|<|>>>>>>>>>>>>>>>>>>>  >||| |<  >  ||>|<|< <||||||<<@|| \n",
      "@> |>|>|<|>|>>>>>>||>>>>>>>>>|<> |>||  |@@>|@>|<  ||||>||| <<|||\n",
      "<> |><>><|>|>>>>>||>>>>>>>>>>| > |>|<| |@ | <|><||||>>>>>|| <<||\n",
      "<><|><> <|>|>>>@<||||><<>>>>>|<> |> <| |@ |<>|<<|||>>>>>>>||<||>\n",
      "<>@|||> <|>|>>>@|||>><|||>>>>|<> |><<|>|@>><>|><<|>><||>>>> <@<>\n",
      "<>||>|> <|>>>>|>>|>>>|> ||>>>|<>  ><<|> @< |>|<|<|><| ||>><   ||\n",
      "<< |>>> <| >>>|>||>>|>>>||>>>|<><>><<|> @> |>|>|<|>|||||><<| > |\n",
      "<<@|>|> <||>>||<>|||>>|| |>>>|<>|>|<<||@@>@|>|>><| >|>>>||<| > |\n",
      "@<@>|>>|< |>>| <|<||>>>>||>>| > |>|<|<>@<>@|>|>><|>||>>|>  | > |\n",
      "@@ @|>>>< ||>| <@@>|>>>>||>>|>> |>|<|@|@<>||>|>><|>||||>>   |>  \n",
      "@@<@|>>>><||><<<<<<<<<<>>>>>|>| >|<<|  @<<@|>>>>||<><||>>>< ||<>\n",
      "@<< @>>||< |>>>> <<<<<>|>>>>|>||>|<|||>@<< >>|>|< <<<>|>>>>||||>\n",
      "@ @<||>>>|<<|>> <|>>||||>>>| | >|><| >>@ > @>>>||@<<<@<<>>  >||>\n",
      "<@@<@||>>>|||<>>>|> |||>>>|| | >|<<|@>>@ @<@||>>| @<<<<<<<| | >|\n",
      "<>><@||> >|>||<>>>>>>>>>>>| ||>||||||>><@<<@||>>>|  |><<|||@>@||\n",
      "<> <@@||>>>|> |>>>>>>>>>>| ||>|||<|||<>@>><<@||>>>||| |||||>><||\n",
      "<@><<<@||>>||| |>>>>>>>>> |>><|| |||>>>>> @<<|||>>|>||||||||<|| \n",
      "<<>  <<|||>>||||||>>>>|>>| |<<|| |||@>>>>>> @@||>>>||||| <||||| \n",
      "<>>>< @@||>>>|>||||||||>| |<<|| |||>>>>>>>>< @@||  |||>>>|>@|  <\n",
      ">>>>>@<<@||>>>||||||||||<||||| <||||>>>>>>>><<<@||  |||||| |   |\n",
      ">>>>>  <<@||> ||>>>|  |||| |  <||||>>@>>>>>>   <>||| >>||     ||\n",
      ">>>>>   <<>||  |||||||||| |    |||||>>|||<>> >  <<<<||<    <<||>\n",
      ">>>>>> >  <<|||  |||||||    < |||||||<@||@|<< >>@<@<<<<< <<| |>@\n",
      "<>>>>>> >> <<><||  >|<    << @|||| >||@@|@@ |<>>>>><@|<< < ||>@>\n",
      "<>>>>>>> >>@<<<<<<<<    <<| @<|| >>< >||||@   > >>>>>>@||@||>>>>\n",
      "<>>>>>>>>>>>>><<<<<<<<<<  |<@@>|>>><<<<  |   < >>>>>>>>>>>||>>>>\n",
      "@<>>>>>>>>>>>>>>>||| |||||>|@>||<<<|||||>>|  @ >>>>>>>>>>>>>>>>>\n",
      "@@<>>>>>>>>>>>>>>>>>>@@|||>@@@>< |<||||||>>||||>>>>>>>>>>>>>>>>>\n",
      "<@@>>>>>>>>>>>>>>>>>>>>>>>>@@@ <    |||||>>|| |>>>>>>>>>>>>>>>>>\n",
      ">>@@>>>>>>>>>>>>>>>>>>>>>>><><@||||||   |>><| |@>>>>>>>>>>>>>>>>\n",
      "|>>@@>>>>>>>>>>>>>>>>>>>>>>@>>@|||||||||||><| |@>>>>>>>>>>>>>>>|\n",
      "|>>>@@>>>>>>>>>>>>>>>>>>>>>@<<@@>| ||||>||><| @@>>>>>>>>>>>>>>|>\n",
      ">>>>>@@>>>>>>>>>>>>>>>>>>>>@<<<@@@|>>       <>>>>>>>>>>>>>>>>>>>\n",
      ">>>>>>@@@>>>>>>>>>>>>>>>>>>@>>@<<@<@@@@<@<@@|>>>>>>>>>>>>>>>>>>>\n",
      ">>>>>>>@@@>>>>>>>>>>>>>>>>>>>>>>>|||||||<<@<@>>>>>>>>>>>>>>>>>>>\n",
      ">>>>>>>>@@<@>>>>>>>>>>>>>>>>>> >>>>>>>>>||||@>>>>>>>>>>>>>>>>>>>\n",
      ">>>>>>>>>>@@@@>>>>>>>>>>>>>>>>>>>>>>>>>>>>>>>>>>>>>>>>>>>>>>>>>>\n",
      "\n"
     ]
    }
   ],
   "source": [
    "print(f_s)"
   ]
  },
  {
   "cell_type": "code",
   "execution_count": 10,
   "metadata": {},
   "outputs": [],
   "source": [
    "import pygame\n",
    "import numpy as np\n",
    "\n",
    "image_array = s\n",
    "\n",
    "pygame.init()\n",
    "\n",
    "console_width = 720\n",
    "console_height = 720\n",
    "console_size = (console_width, console_height)\n",
    "\n",
    "console_screen = pygame.display.set_mode(console_size)\n",
    "\n",
    "font_size = 8  # font size\n",
    "font = pygame.font.SysFont('Arial', font_size)\n",
    "\n",
    "for y in range(64):\n",
    "    for x in range(64):\n",
    "        char = image_array[y, x]\n",
    "        text_surface = font.render(char, True, (255, 255, 255))  \n",
    "        console_screen.blit(text_surface, (x * font_size, y * font_size))\n",
    "\n",
    "pygame.display.update()\n",
    "\n",
    "running = True\n",
    "while running:\n",
    "    for event in pygame.event.get():\n",
    "        if event.type == pygame.QUIT:\n",
    "            running = False\n",
    "\n",
    "pygame.quit()"
   ]
  },
  {
   "cell_type": "code",
   "execution_count": null,
   "metadata": {},
   "outputs": [],
   "source": []
  },
  {
   "cell_type": "code",
   "execution_count": null,
   "metadata": {},
   "outputs": [],
   "source": []
  }
 ],
 "metadata": {
  "kernelspec": {
   "display_name": "base",
   "language": "python",
   "name": "python3"
  },
  "language_info": {
   "codemirror_mode": {
    "name": "ipython",
    "version": 3
   },
   "file_extension": ".py",
   "mimetype": "text/x-python",
   "name": "python",
   "nbconvert_exporter": "python",
   "pygments_lexer": "ipython3",
   "version": "3.11.5"
  }
 },
 "nbformat": 4,
 "nbformat_minor": 2
}
