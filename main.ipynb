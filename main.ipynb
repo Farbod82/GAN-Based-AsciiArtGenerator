{
 "cells": [
  {
   "cell_type": "code",
   "execution_count": 9,
   "metadata": {},
   "outputs": [],
   "source": [
    "import numpy as np\n",
    "import pandas as pd\n",
    "import cv2\n",
    "import albumentations as A\n",
    "from albumentations.pytorch import ToTensorV2"
   ]
  },
  {
   "cell_type": "code",
   "execution_count": null,
   "metadata": {},
   "outputs": [],
   "source": []
  },
  {
   "cell_type": "code",
   "execution_count": null,
   "metadata": {},
   "outputs": [],
   "source": [
    "IMAGE_NUM = 7129\n",
    "path =  \"gray/\"\n",
    "train_list = []\n",
    "for i in range(5600):\n",
    "    img = cv2.imread(path + str(i)+\".jpg\",cv2.IMREAD_GRAYSCALE)\n",
    "    train_list.append(img)\n",
    "\n",
    "test_list = []\n",
    "\n",
    "for i in range(5600,IMAGE_NUM):\n",
    "    img = cv2.imread(path + str(i)+\".jpg\",cv2.IMREAD_GRAYSCALE)\n",
    "    test_list.append(img)\n",
    "\n",
    "\n",
    "    \n",
    "    \n"
   ]
  },
  {
   "cell_type": "code",
   "execution_count": 11,
   "metadata": {},
   "outputs": [],
   "source": [
    "x_transform = A.Compose(\n",
    "    [\n",
    "     A.Resize(256,256),\n",
    "     A.HorizontalFlip(p=0.5),\n",
    "     A.VerticalFlip(p=0.5),\n",
    "     ToTensorV2(),\n",
    "     ]\n",
    ")\n",
    "\n",
    "test_transform = A.Compose(\n",
    "    [\n",
    "    A.Resize(256,256),\n",
    "    ToTensorV2(),\n",
    "     ]\n",
    ")\n",
    "\n"
   ]
  },
  {
   "cell_type": "code",
   "execution_count": 12,
   "metadata": {},
   "outputs": [],
   "source": [
    "from torch.utils.data import Dataset, DataLoader\n",
    "\n",
    "class ImageDataset(Dataset):\n",
    "    def __init__(self, image_paths, transform=False):\n",
    "        self.image_paths = image_paths\n",
    "        self.transform = transform\n",
    "\n",
    "    def __len__(self):\n",
    "        return len(self.image_paths)\n",
    "\n",
    "    def __getitem__(self, idx):\n",
    "        image = self.image_paths[idx]\n",
    "        # image = cv2.imread(image_filepath)\n",
    "\n",
    "    \n",
    "        # print(label)\n",
    "        if self.transform != False:\n",
    "            image = self.transform(image=image)[\"image\"]\n",
    "        else:\n",
    "            image = test_transform(image=image)[\"image\"]\n",
    "        return image.float()\n",
    "\n",
    "\n",
    "\n",
    "train_dataset = ImageDataset(train_list,x_transform)\n",
    "test_dataset = ImageDataset(test_list)"
   ]
  },
  {
   "cell_type": "code",
   "execution_count": null,
   "metadata": {},
   "outputs": [],
   "source": []
  }
 ],
 "metadata": {
  "kernelspec": {
   "display_name": "base",
   "language": "python",
   "name": "python3"
  },
  "language_info": {
   "codemirror_mode": {
    "name": "ipython",
    "version": 3
   },
   "file_extension": ".py",
   "mimetype": "text/x-python",
   "name": "python",
   "nbconvert_exporter": "python",
   "pygments_lexer": "ipython3",
   "version": "3.11.5"
  }
 },
 "nbformat": 4,
 "nbformat_minor": 2
}
